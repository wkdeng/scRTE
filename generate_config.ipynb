{
 "cells": [
  {
   "cell_type": "code",
   "execution_count": 1,
   "metadata": {},
   "outputs": [],
   "source": [
    "import pandas as pd\n",
    "meta=pd.read_csv('data/3/Meta.csv',sep=',')\n",
    "meta.iloc[:,15]=['AD' if 'AD' in x else \"Control\" for x in meta.iloc[:,15]]\n",
    "\n"
   ]
  },
  {
   "cell_type": "code",
   "execution_count": 45,
   "metadata": {},
   "outputs": [
    {
     "name": "stdout",
     "output_type": "stream",
     "text": [
      "SRR11422700,\n",
      "SRR11422701,\n",
      "SRR11422702,\n",
      "SRR11422703,\n",
      "SRR11422704,\n",
      "SRR11422705,\n",
      "SRR11422706,\n",
      "SRR11422707,\n",
      "SRR11422708,\n",
      "SRR11422709,\n",
      "SRR11422710,\n",
      "SRR11422711,\n",
      "SRR11422712,\n",
      "SRR11422713,\n",
      "SRR11422714,\n",
      "SRR11422715,\n",
      "SRR11422716,\n",
      "SRR11422717,\n",
      "SRR11422718,\n",
      "SRR11422719\n"
     ]
    }
   ],
   "source": [
    "print(str(meta[['Run']].agg(',\\n'.join)['Run']))"
   ]
  }
 ],
 "metadata": {
  "kernelspec": {
   "display_name": "Python 3",
   "language": "python",
   "name": "python3"
  },
  "language_info": {
   "codemirror_mode": {
    "name": "ipython",
    "version": 3
   },
   "file_extension": ".py",
   "mimetype": "text/x-python",
   "name": "python",
   "nbconvert_exporter": "python",
   "pygments_lexer": "ipython3",
   "version": "3.6.8"
  },
  "orig_nbformat": 4,
  "vscode": {
   "interpreter": {
    "hash": "31f2aee4e71d21fbe5cf8b01ff0e069b9275f58929596ceb00d14d90e3e16cd6"
   }
  }
 },
 "nbformat": 4,
 "nbformat_minor": 2
}
