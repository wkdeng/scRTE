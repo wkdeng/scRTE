{
 "cells": [
  {
   "cell_type": "code",
   "execution_count": 1,
   "metadata": {},
   "outputs": [],
   "source": [
    "%load_ext rpy2.ipython"
   ]
  },
  {
   "cell_type": "code",
   "execution_count": null,
   "metadata": {},
   "outputs": [],
   "source": [
    "%%R\n",
    "library(stringr)\n",
    "\n",
    "lapply(c(\"dplyr\",\"Seurat\",\"HGNChelper\",\"openxlsx\"), library, character.only = T)\n",
    "\n",
    "load('../data/reference.RData')\n",
    "\n",
    "sample_meta<-'AD_HS_00001\tMolecular characterization of selectively vulnerable neurons in Alzheimer’s Disease\t20\tH.Sapiens\tAD\tSuperior frontal gyrus;Superior frontal gyrus;Superior frontal gyrus;Superior frontal gyrus;Superior frontal gyrus;Superior frontal gyrus;Superior frontal gyrus;Superior frontal gyrus;Superior frontal gyrus;Superior frontal gyrus;Entorhinal cortex;Entorhinal cortex;Entorhinal cortex;Entorhinal cortex;Entorhinal cortex;Entorhinal cortex;Entorhinal cortex;Entorhinal cortex;Entorhinal cortex;Entorhinal cortex\tBraak:0;0;0;2;2;2;2;6;6;6;0;0;0;2;2;2;2;6;6;6\tExcitatoryNeuron;InhibitoryNeuron;Oligodendrocyte;OPC;Astrocyte;Microglia;Endothelia;Pericyte\tGSE147528\tSingle-nucleus RNA-seq\t10x Genomics\tMale\t60;50;71;72;87;91;77;82;72;82;60;50;71;72;87;91;77;82;72;82\tSRR11422700;SRR11422701;SRR11422702;SRR11422703;SRR11422704;SRR11422705;SRR11422706;SRR11422707;SRR11422708;SRR11422709;SRR11422710;SRR11422711;SRR11422712;SRR11422713;SRR11422714;SRR11422715;SRR11422716;SRR11422717;SRR11422718;SRR11422719'\n",
    "split_meta<-unlist(strsplit(sample_meta, '\\t'))\n",
    "samples<-unlist(strsplit(split_meta[14],';'))\n",
    "disease<-rep(split_meta[5],length(samples))\n",
    "stage<-unlist(strsplit(unlist(strsplit(split_meta[7],':'))[2],';'))\n",
    "gender<-rep(split_meta[12],length(samples))\n",
    "age<-unlist(strsplit(split_meta[13],';'))\n",
    "\n",
    "sample_meta<-data.frame(samples=samples,disease=disease,stage=stage,gender=gender,age=age)\n",
    "sample_meta[sample_meta$stage=='0','disease']<-'Control'\n",
    "rownames(sample_meta)<-sample_meta$samples\n",
    "\n",
    "# args <- commandArgs(trailingOnly=TRUE)\n",
    "args<-c('../data/3/scte','../data/3/cell_umap.txt','SRR11422700','/home/wdeng3/workspace/software/sc-type','../../universal_data/rmsk/rmsk_GRCh38.txt')\n",
    "data_path<-args[1]\n",
    "out_path<-args[2]\n",
    "sample_tag<-args[3]\n",
    "sctype_path<-args[4]\n",
    "rmsk_path<-args[5]\n",
    "rmsk<-read.table(rmsk_path,sep='\\t',header=F)\n",
    "to_remove<-unlist(rmsk[!(rmsk$V12 %in% c('LINE','SINE','LTR')),'V11'])\n",
    "to_remove<-str_replace_all(to_remove,'-','\\\\.')\n",
    "\n",
    "reps<-unlist(rmsk[rmsk$V12 %in% c('LINE','SINE','LTR'),'V11'])\n",
    "reps<-str_replace_all(reps,'-','\\\\.')\n",
    "\n",
    "create_seurat<-function(sample_tag){\n",
    "    ## load data\n",
    "    scte.data <- t(read.csv(paste0(data_path,'/',sample_tag,'/',sample_tag,'.csv'),check.names=F, row.names = 1))\n",
    "    # remove repeats from gene expression matrix\n",
    "\n",
    "    scte.gene<-scte.data[!(row.names(scte.data) %in% to_remove),]\n",
    "    # normalize and scale data\n",
    "    scte <- CreateSeuratObject(counts = scte.gene, project = sample_tag, min.cells = 3, min.features = 200)\n",
    "    # normalize data\n",
    "    scte[[\"percent.mt\"]] <- PercentageFeatureSet(scte, pattern = \"^MT.|^MT-\")\n",
    "    scte <- subset(scte, subset = nFeature_RNA > 200 & nFeature_RNA < 2500 & percent.mt < 5)\n",
    "    scte <- SCTransform(scte, vars.to.regress = \"percent.mt\", verbose = FALSE)\n",
    "\n",
    "    cell_meta<-scte@meta.data\n",
    "    cell_meta$disease<-sample_meta[cell_meta$orig.ident,'disease']\n",
    "\n",
    "    cell_meta$stage<-sample_meta[cell_meta$orig.ident,'stage']\n",
    "    cell_meta$gender<-sample_meta[cell_meta$orig.ident,'gender']\n",
    "    cell_meta$age<-sample_meta[cell_meta$orig.ident,'age']\n",
    "    scte@meta.data<-cell_meta\n",
    "    scte\n",
    "}\n",
    "\n",
    "scte<-create_seurat(sample_tag)\n",
    "\n",
    "scte <- FindVariableFeatures(scte, selection.method = \"vst\", nfeatures = 2000)\n",
    "# scale and run PCA\n",
    "scte <- ScaleData(scte, features = rownames(scte))\n",
    "scte <- RunPCA(scte, features = VariableFeatures(object = scte))\n",
    "\n",
    "sdv<-Stdev(scte,reduction='pca')\n",
    "sdv<-sdv[sdv>2]\n",
    "npca<-length(sdv)\n",
    "\n",
    "scte <- FindNeighbors(scte, dims = 1:npca)\n",
    "scte <- FindClusters(scte, resolution = 0.8)\n",
    "scte <- RunUMAP(scte, dims = 1:npca)\n",
    "\n",
    "\n",
    "scte.anchors <- FindTransferAnchors(reference = reference, query = scte,\n",
    "    dims = 1:30, reference.reduction = \"pca\")\n",
    "scte.query <- MapQuery(anchorset = scte.anchors, reference = reference, query = scte,\n",
    "    refdata = list(celltype = \"broad.cell.type\"), reference.reduction = \"pca\", reduction.model = \"umap\")\n",
    "cell_meta<-scte.query@meta.data\n",
    "\n",
    "cell_meta$UMAP_1<-scte.query@reductions[['umap']]@cell.embeddings[,1]\n",
    "cell_meta$UMAP_2<-scte.query@reductions[['umap']]@cell.embeddings[,2]\n",
    "scte.query@meta.data<-cell_meta\n",
    "write.table(cell_meta,out_path,sep='\\t',quote=F,row.names=T)\n",
    "\n",
    "## get gene expression from scte_query\n",
    "scte.query.gene<-as.data.frame(t(as.data.frame(GetAssayData(scte.query, slot = \"data\"))))\n",
    "scte.query.gene$UMAP_1<-scte.query@meta.data$UMAP_1\n",
    "scte.query.gene$UMAP_2<-scte.query@meta.data$UMAP_2\n",
    "write.table(scte.query.gene,'../data/3/cell_exp.txt',sep='\\t',quote=F,row.names=T)"
   ]
  },
  {
   "cell_type": "code",
   "execution_count": 52,
   "metadata": {},
   "outputs": [],
   "source": []
  },
  {
   "cell_type": "code",
   "execution_count": 82,
   "metadata": {},
   "outputs": [
    {
     "name": "stdout",
     "output_type": "stream",
     "text": [
      "{'MS_HS_00001', 'AD_HS_00008', 'AD_HS_00004', 'AD_HS_00002', 'AD_HS_00001', 'AD_HS_00005', 'AD_HS_00006', 'AD_HS_00007', 'MS_HS_00002', 'PD_HS_00001', 'AD_HS_00003'}\n"
     ]
    }
   ],
   "source": [
    "import pandas as pd\n",
    "import numpy as np\n",
    "from scipy.stats import wilcoxon\n",
    "import os\n",
    "\n",
    "datasets=set([x.split('.')[0] for x in os.listdir('../data/all_datasets') if x.endswith('.cell_exp.txt')])\n",
    "for dataset in datasets:\n",
    "    print(dataset)\n",
    "    cell_exp=pd.read_csv('../data/all_datasets/'+dataset+'.cell_exp.txt',sep='\\t',index_"
   ]
  },
  {
   "cell_type": "code",
   "execution_count": 77,
   "metadata": {},
   "outputs": [
    {
     "data": {
      "text/plain": [
       "True"
      ]
     },
     "execution_count": 77,
     "metadata": {},
     "output_type": "execute_result"
    }
   ],
   "source": [
    "list_=','.join(gene_list['AD_HS_00002'])\n",
    "'AluSz,' in list_\n"
   ]
  },
  {
   "cell_type": "code",
   "execution_count": null,
   "metadata": {},
   "outputs": [],
   "source": [
    "# ## assign cell type according to ScType tuturial\n",
    "\n",
    "## load sc type and database\n",
    "# source(paste0(sctype_path,\"/R/gene_sets_prepare.R\"))\n",
    "# source(paste0(sctype_path,\"/R/sctype_score_.R\"))\n",
    "# gs_list = gene_sets_prepare(paste0(sctype_path,'/ScTypeDB_full.xlsx'), \"Brain\" )\n",
    "# # get cell-type by cell matrix\n",
    "# es.max = sctype_score(scRNAseqData = scte[[\"RNA\"]]@scale.data, scaled = TRUE, \n",
    "#                       gs = gs_list$gs_positive, gs2 = gs_list$gs_negative) \n",
    "\n",
    "# # merge by cluster\n",
    "# cL_resutls = do.call(\"rbind\", lapply(unique(scte@meta.data$seurat_clusters), function(cl){\n",
    "#     es.max.cl = sort(rowSums(es.max[ ,rownames(scte@meta.data[scte@meta.data$seurat_clusters==cl, ])]), decreasing = !0)\n",
    "#     head(data.frame(cluster = cl, type = names(es.max.cl), scores = es.max.cl, ncells = sum(scte@meta.data$seurat_clusters==cl)), 10)\n",
    "# }))\n",
    "# sctype_scores = cL_resutls %>% group_by(cluster) %>% top_n(n = 1, wt = scores)  \n",
    "\n",
    "# # set low-confident (low ScType score) clusters to \"unknown\"\n",
    "# sctype_scores$type[as.numeric(as.character(sctype_scores$scores)) < sctype_scores$ncells/4] = \"Unknown\"\n",
    "\n",
    "\n",
    "# scte@meta.data$customclassif = \"\"\n",
    "# for(j in unique(sctype_scores$cluster)){\n",
    "#   cl_type = sctype_scores[sctype_scores$cluster==j,]; \n",
    "#   scte@meta.data$customclassif[scte@meta.data$seurat_clusters == j] = as.character(cl_type$type[1])\n",
    "# }\n",
    "\n",
    "# ## save cell type\n",
    "# cell_types<-scte[['customclassif']]\n"
   ]
  }
 ],
 "metadata": {
  "kernelspec": {
   "display_name": "Python 3 (ipykernel)",
   "language": "python",
   "name": "python3"
  },
  "orig_nbformat": 4,
  "vscode": {
   "interpreter": {
    "hash": "916dbcbb3f70747c44a77c7bcd40155683ae19c65e1c03b4aa3499c5328201f1"
   }
  }
 },
 "nbformat": 4,
 "nbformat_minor": 2
}
