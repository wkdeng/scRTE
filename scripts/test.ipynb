{
 "cells": [
  {
   "cell_type": "code",
   "execution_count": 14,
   "metadata": {},
   "outputs": [],
   "source": [
    "import pandas as pd \n",
    "import sys\n",
    "\n",
    "input_=sys.argv[1]\n",
    "output_=sys.argv[2]\n",
    "te_table=pd.read_csv(input_,sep='\\t')\n",
    "\n",
    "te_fam=open(output_,'w')\n",
    "te_fam.write('''CREATE DATABASE IF NOT EXISTS scARE;\n",
    "USE scARE;\n",
    "DROP TABLE IF EXISTS TE_BASIC;\n",
    "CREATE TABLE TE_FAM (\n",
    "    ID INT NOT NULL AUTO_INCREMENT,\n",
    "    CLASS varchar(255) NOT NULL,\n",
    "    FAMILY varchar(255) NOT NULL,\n",
    "    Name varchar(255) NOT NULL,\n",
    "    CONSENSUS TEXT,\n",
    "    CONSENSUS_LEN INT,\n",
    "    NUM_OCCUR INT NOT NULL,\n",
    "    DISTRIBUTION_CHR JSON NOT NULL,\n",
    "    DISTRIBUTION_TX JSON NOT NULL,\n",
    "    DISTRIBUTION_GENOME,\n",
    "    \n",
    "    PRIMARY KEY (ID) \n",
    ");\n",
    "''')\n",
    "rte=te_table.loc[te_table['repClass'].isin(['LINE','SINE','LTR']),['repName','repClass','repFamily']].drop_duplicates()\n",
    "for i in range(len(rte)):\n",
    "    class_, family, name =rte.iloc[i,[1,2,0]]\n",
    "    te_fam.write(f'INSERT INTO TE_FAM (CLASS,FAMILY,NAME) VALUES (\"{class_}\",\"{family}\",\"{name}\");\\n')\n",
    "te_fam.close()\n"
   ]
  },
  {
   "cell_type": "code",
   "execution_count": 15,
   "metadata": {},
   "outputs": [],
   "source": []
  }
 ],
 "metadata": {
  "kernelspec": {
   "display_name": "Python 3 (ipykernel)",
   "language": "python",
   "name": "python3"
  },
  "orig_nbformat": 4
 },
 "nbformat": 4,
 "nbformat_minor": 2
}
