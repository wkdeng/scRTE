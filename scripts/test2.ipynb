{
 "cells": [
  {
   "cell_type": "code",
   "execution_count": 1,
   "metadata": {},
   "outputs": [
    {
     "name": "stderr",
     "output_type": "stream",
     "text": [
      "/tmp/ipykernel_2170290/4010846450.py:7: DtypeWarning: Columns (0,1,2,3,4,6,7,8,13,14,15,16) have mixed types. Specify dtype option on import or set low_memory=False.\n",
      "  rmsk=pd.read_table('../../universal_data/rmsk/rmsk_GRCh38.txt',sep='\\t',header=None)\n"
     ]
    },
    {
     "data": {
      "text/plain": [
       "['AD_HS_00001',\n",
       " 'AD_HS_00002',\n",
       " 'AD_HS_00003',\n",
       " 'AD_HS_00004',\n",
       " 'AD_HS_00005',\n",
       " 'AD_HS_00006',\n",
       " 'AD_HS_00007',\n",
       " 'AD_HS_00008',\n",
       " 'MS_HS_00001',\n",
       " 'MS_HS_00002',\n",
       " 'PD_HS_00001']"
      ]
     },
     "execution_count": 1,
     "metadata": {},
     "output_type": "execute_result"
    }
   ],
   "source": [
    "import pandas as pd\n",
    "import numpy as np\n",
    "from scipy.stats import mannwhitneyu\n",
    "import os\n",
    "\n",
    "file_list=[x for x in os.listdir('../data/all_datasets') if x.endswith('.cell_exp.txt')]\n",
    "rmsk=pd.read_table('../../universal_data/rmsk/rmsk_GRCh38.txt',sep='\\t',header=None)\n",
    "rtes=rmsk[rmsk[11].isin(['LINE','SINE','LTR'])][10].unique()\n",
    "datasets=list(set([x.split('.')[0] for x in file_list]))\n",
    "datasets.sort()\n",
    "cell_types=['Ex','Ast','Mic','OPC','Oli','In']\n",
    "datasets"
   ]
  },
  {
   "cell_type": "code",
   "execution_count": 5,
   "metadata": {},
   "outputs": [
    {
     "name": "stdout",
     "output_type": "stream",
     "text": [
      "AD_HS_00001\n",
      "['AD_HS_00001.cell_exp.txt']\n",
      "AD_HS_00002\n",
      "['AD_HS_00002.cell_exp.txt']\n",
      "AD_HS_00003\n",
      "['AD_HS_00003.1.cell_exp.txt', 'AD_HS_00003.2.cell_exp.txt']\n",
      "AD_HS_00004\n",
      "['AD_HS_00004.cell_exp.txt']\n",
      "AD_HS_00005\n",
      "['AD_HS_00005.cell_exp.txt']\n",
      "AD_HS_00006\n",
      "['AD_HS_00006.cell_exp.txt']\n",
      "AD_HS_00007\n",
      "['AD_HS_00007.cell_exp.txt']\n",
      "AD_HS_00008\n",
      "['AD_HS_00008.cell_exp.txt']\n",
      "MS_HS_00001\n",
      "['MS_HS_00001.cell_exp.txt']\n",
      "MS_HS_00002\n",
      "['MS_HS_00002.cell_exp.txt']\n",
      "PD_HS_00001\n",
      "['PD_HS_00001.cell_exp.txt']\n"
     ]
    }
   ],
   "source": [
    "for dataset in datasets:\n",
    "    print(dataset)\n",
    "    results=[]\n",
    "    dt_ls=[x for x in file_list if x.startswith(dataset)]\n",
    "    print(dt_ls)"
   ]
  },
  {
   "cell_type": "code",
   "execution_count": null,
   "metadata": {},
   "outputs": [],
   "source": []
  },
  {
   "cell_type": "code",
   "execution_count": null,
   "metadata": {},
   "outputs": [],
   "source": []
  },
  {
   "cell_type": "code",
   "execution_count": null,
   "metadata": {},
   "outputs": [],
   "source": []
  }
 ],
 "metadata": {
  "kernelspec": {
   "display_name": "Python 3 (ipykernel)",
   "language": "python",
   "name": "python3"
  },
  "language_info": {
   "codemirror_mode": {
    "name": "ipython",
    "version": 3
   },
   "file_extension": ".py",
   "mimetype": "text/x-python",
   "name": "python",
   "nbconvert_exporter": "python",
   "pygments_lexer": "ipython3",
   "version": "3.9.13"
  },
  "orig_nbformat": 4
 },
 "nbformat": 4,
 "nbformat_minor": 2
}
